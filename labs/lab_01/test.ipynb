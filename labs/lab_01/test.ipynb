# This is a test notebook

 